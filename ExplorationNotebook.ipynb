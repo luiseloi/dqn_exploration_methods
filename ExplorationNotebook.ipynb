{
 "cells": [
  {
   "cell_type": "markdown",
   "id": "ff51f543",
   "metadata": {
    "pycharm": {
     "name": "#%% md\n"
    }
   },
   "source": [
    "## Training notebook for benchmarking the partial exploration variable\n",
    "In this notebook we are using PyDial to train and test DeepQ Networks with a partial and progressive exploration variable (defined in three different environments: \n",
    "\n",
    "- Cambridge Restaurants \n",
    "- San Francisco Restaurants\n",
    "- Laptops \n",
    "\n",
    "Hyperparameters are defined in the Independent Research Project in the Methodology section. They are also listed in the configuration file of each environment in configuration_files. The configuration files are as follows: \n",
    "\n",
    "#### Handcrafted Policies (4000 dialogs in total, batches of 1000 for training, test on 500 dialogs) \n",
    "- env1-hdc-CR.cfg    / Handcrafted policy configuration file for Cambridge Restaurants Domain\n",
    "- env1-hdc-SFR.cfg  / Handcrafted policy configuration file for San Francisco Restaurants Domain\n",
    "- env1-hdc-LAP.cfg  / Handcrafted policy configuration file for Laptop Domain \n",
    "\n",
    "#### DQN with partial exploration variable (4000 dialogs in total, batches of 1000 for training, test on 500 dialogs) \n",
    "\n",
    "- env-exploration-partial-CR.cfg / DQN with partial exploration variable enabled on top of DQNPolicy.py for Cambridge Restaurants Domain\n",
    "- env-exploration-partial-sfr.cfg / DQN with partial exploration variable enabled on top of DQNPolicy.py for San Francisco Restaurants Domain\n",
    "- env-exploration-partial-lap.cfg / DQN with partial exploration variable enabled on top of DQNPolicy.py for Laptops Domain\n",
    "\n",
    "#### DQN with partial exploration variable (4000 dialogs in total, batches of 100 for training, test on 30 dialogs) \n",
    "\n",
    "- env-exploration-partial-CR-100.cfg / DQN with partial exploration variable enabled on top of DQNPolicy.py for Cambridge Restaurants Domain\n",
    "- env-exploration-partial-sfr-100.cfg / DQN with partial exploration variable enabled on top of DQNPolicy.py for San Francisco Restaurants Domain\n",
    "- env-exploration-partial-lap-100.cfg / DQN with partial exploration variable enabled on top of DQNPolicy.py for Laptops Domain\n",
    "\n",
    "----------------------------------------------------------------------------------------------------------------------"
   ]
  },
  {
   "cell_type": "markdown",
   "id": "28f00a39",
   "metadata": {
    "pycharm": {
     "name": "#%% md\n"
    }
   },
   "source": [
    "#### Preparing all necessary imports for this notebook"
   ]
  },
  {
   "cell_type": "code",
   "execution_count": 1,
   "id": "35fb11bd",
   "metadata": {
    "pycharm": {
     "name": "#%%\n"
    }
   },
   "outputs": [],
   "source": [
    "import os\n",
    "from exploration_utils.exploration_utilities import ProgressionExploration, RiskIndexCalculator\n",
    "import pandas as pd"
   ]
  },
  {
   "cell_type": "code",
   "execution_count": 2,
   "id": "fac87459",
   "metadata": {
    "pycharm": {
     "name": "#%%\n"
    }
   },
   "outputs": [
    {
     "name": "stdout",
     "output_type": "stream",
     "text": [
      "Notebook location: /Users/crodrigues/Desktop/Submission_Masters\n"
     ]
    }
   ],
   "source": [
    "#Finding the path of the notebook. The PyDial Repository should be in the same directory. \n",
    "absolute_path = os.path.abspath('')\n",
    "working_path = os.path.dirname(absolute_path)\n",
    "print(f\"Notebook location: {working_path}\")"
   ]
  },
  {
   "cell_type": "markdown",
   "id": "ef075907",
   "metadata": {
    "pycharm": {
     "name": "#%% md\n"
    }
   },
   "source": [
    "Setting this variable to ensure that GPU machines can take advantage of it  "
   ]
  },
  {
   "cell_type": "code",
   "execution_count": 3,
   "id": "94b12f22",
   "metadata": {
    "pycharm": {
     "name": "#%%\n"
    }
   },
   "outputs": [],
   "source": [
    "os.environ[\"CUDA_VISIBLE_DEVICES\"] = \"\""
   ]
  },
  {
   "cell_type": "code",
   "execution_count": 4,
   "id": "8440bd81",
   "metadata": {
    "pycharm": {
     "name": "#%%\n"
    }
   },
   "outputs": [
    {
     "name": "stdout",
     "output_type": "stream",
     "text": [
      "/Users/crodrigues/Desktop/Submission_Masters/dqn_exploration_methods/pydial3-public\n"
     ]
    }
   ],
   "source": [
    "# Change directory to the pydial benchmark folder to run the benchmarks \n",
    "%cd pydial3-public"
   ]
  },
  {
   "cell_type": "markdown",
   "id": "04419eb8",
   "metadata": {
    "pycharm": {
     "name": "#%% md\n"
    }
   },
   "source": [
    "# DQN with exploration variable - Training"
   ]
  },
  {
   "cell_type": "markdown",
   "id": "fa656e54",
   "metadata": {
    "pycharm": {
     "name": "#%% md\n"
    }
   },
   "source": [
    "### [DISCLAIMER] - the training process is long (it will take several hours on a CPU-Based machine). For convenience, the results of the runs are provided in results_logs/ folder. These logs contain all necessary information for plotting the results. "
   ]
  },
  {
   "cell_type": "markdown",
   "id": "b861d1b1",
   "metadata": {
    "pycharm": {
     "name": "#%% md\n"
    }
   },
   "source": [
    "#### Environment - Cambridge Restaurants with exploration variable - 4000/1000/500 - 9 seeds - DQN"
   ]
  },
  {
   "cell_type": "code",
   "execution_count": null,
   "id": "44302d0a",
   "metadata": {
    "pycharm": {
     "name": "#%%\n"
    }
   },
   "outputs": [
    {
     "name": "stdout",
     "output_type": "stream",
     "text": [
      "*** Seed 0 ***\n",
      "Policy dir ../policies_directory/ does not exist, creating it\n",
      "Log dir ../logs_directory/ does not exist, creating it\n",
      "*** logfile: env-exploration-partial-CR-seed0-00.1-4.train.log ***\n",
      "\u001b[95mRESULTS\u001b[0m:: 00:09:29: root                                   pydial.py <train_command>853 :  List of domains: CamRestaurants\u001b[1m\u001b[0m\n",
      "*** Training Iteration env-exploration-partial-CR-seed0-00.0->env-exploration-partial-CR-seed0-00.1: iter=0, error-rate=0, num-dialogs=1000 ***\n",
      "\u001b[95mRESULTS\u001b[0m:: 00:09:29: root                                      pydial.py <trainBatch>445 :  *** Training Iteration env-exploration-partial-CR-seed0-00.0->env-exploration-partial-CR-seed0-00.1: iter=0, error-rate=0, num-dialogs=1000 ***\u001b[1m\u001b[0m\n"
     ]
    },
    {
     "name": "stderr",
     "output_type": "stream",
     "text": [
      "2023-03-01 00:09:30.937760: I tensorflow/core/platform/cpu_feature_guard.cc:193] This TensorFlow binary is optimized with oneAPI Deep Neural Network Library (oneDNN) to use the following CPU instructions in performance-critical operations:  SSE4.1 SSE4.2\n",
      "To enable them in other operations, rebuild TensorFlow with the appropriate compiler flags.\n",
      "2023-03-01 00:09:39.053006: I tensorflow/core/platform/cpu_feature_guard.cc:193] This TensorFlow binary is optimized with oneAPI Deep Neural Network Library (oneDNN) to use the following CPU instructions in performance-critical operations:  SSE4.1 SSE4.2\n",
      "To enable them in other operations, rebuild TensorFlow with the appropriate compiler flags.\n",
      "2023-03-01 00:09:39.055885: I tensorflow/core/common_runtime/pluggable_device/pluggable_device_factory.cc:306] Could not identify NUMA node of platform GPU ID 0, defaulting to 0. Your kernel may not have been built with NUMA support.\n",
      "2023-03-01 00:09:39.056399: I tensorflow/core/common_runtime/pluggable_device/pluggable_device_factory.cc:272] Created TensorFlow device (/job:localhost/replica:0/task:0/device:GPU:0 with 0 MB memory) -> physical PluggableDevice (device: 0, name: METAL, pci bus id: <undefined>)\n",
      "2023-03-01 00:09:39.243486: I tensorflow/compiler/mlir/mlir_graph_optimization_pass.cc:357] MLIR V1 optimization pass is not enabled\n"
     ]
    },
    {
     "name": "stdout",
     "output_type": "stream",
     "text": [
      "Metal device set to: Apple M1 Pro\n",
      "nothing loaded in first iteration\n",
      "load from:  ../policies_directory/env-exploration-partial-CR-seed0-00.0\n",
      "loaded replay size:  0\n"
     ]
    },
    {
     "name": "stderr",
     "output_type": "stream",
     "text": [
      "2023-03-01 00:09:39.597477: I tensorflow/core/common_runtime/pluggable_device/pluggable_device_factory.cc:306] Could not identify NUMA node of platform GPU ID 0, defaulting to 0. Your kernel may not have been built with NUMA support.\n",
      "2023-03-01 00:09:39.597510: I tensorflow/core/common_runtime/pluggable_device/pluggable_device_factory.cc:272] Created TensorFlow device (/job:localhost/replica:0/task:0/device:GPU:0 with 0 MB memory) -> physical PluggableDevice (device: 0, name: METAL, pci bus id: <undefined>)\n",
      "2023-03-01 00:09:39.610559: I tensorflow/core/grappler/optimizers/custom_graph_optimizer_registry.cc:114] Plugin optimizer for device_type GPU is enabled.\n"
     ]
    },
    {
     "name": "stdout",
     "output_type": "stream",
     "text": [
      "no actions in store yet - first step\n",
      "Saving deepq-network...\n",
      "Saving deepq-network...\n",
      "Saving deepq-network...\n"
     ]
    }
   ],
   "source": [
    "%run pydial train ../configuration_files/env-exploration-partial-CR.cfg --seed=\\(0,9\\)         "
   ]
  },
  {
   "cell_type": "markdown",
   "id": "9580a233",
   "metadata": {
    "pycharm": {
     "name": "#%% md\n"
    }
   },
   "source": [
    "#### Environment - San Francisco Restaurants with exploration variable - 4000/1000/500 - 9 seeds - DQN"
   ]
  },
  {
   "cell_type": "code",
   "execution_count": null,
   "id": "a680017c",
   "metadata": {
    "pycharm": {
     "name": "#%%\n"
    }
   },
   "outputs": [],
   "source": [
    "%run pydial train ../configuration_files/env-exploration-partial-sfr.cfg --seed=\\(0,9\\)         "
   ]
  },
  {
   "cell_type": "markdown",
   "id": "7b8b70de",
   "metadata": {
    "pycharm": {
     "name": "#%% md\n"
    }
   },
   "source": [
    "#### Environment - Laptops with exploration variable - 4000/1000/500 - 9 seeds - DQN"
   ]
  },
  {
   "cell_type": "code",
   "execution_count": null,
   "id": "719e5702",
   "metadata": {
    "pycharm": {
     "name": "#%%\n"
    }
   },
   "outputs": [],
   "source": [
    "%run pydial train ../configuration_files/env-exploration-partial-lap.cfg --seed=\\(0,9\\)         "
   ]
  },
  {
   "cell_type": "markdown",
   "id": "1b4867ad",
   "metadata": {
    "pycharm": {
     "name": "#%% md\n"
    }
   },
   "source": [
    "#### Results table for the three environments above on pre-trained logs/policies ( result_logs/) "
   ]
  },
  {
   "cell_type": "code",
   "execution_count": null,
   "id": "bf24bdd8",
   "metadata": {
    "pycharm": {
     "name": "#%%\n"
    }
   },
   "outputs": [],
   "source": [
    "%run pydial plot --noplot ../result_logs/env-exploration-partial-CR-seed*1-4.train.log\n",
    "%run pydial plot --noplot ../result_logs/env-exploration-partial-sfr-seed*1-4.train.log\n",
    "%run pydial plot --noplot ../result_logs/env-exploration-partial-lap-seed*1-4.train.log"
   ]
  },
  {
   "cell_type": "markdown",
   "id": "ca4bd8cb",
   "metadata": {
    "pycharm": {
     "name": "#%% md\n"
    }
   },
   "source": [
    "#### Results plots for the three environments above on pre-trained logs/policies ( result_logs/)"
   ]
  },
  {
   "cell_type": "code",
   "execution_count": null,
   "id": "5fd6d631",
   "metadata": {
    "pycharm": {
     "name": "#%%\n"
    }
   },
   "outputs": [],
   "source": [
    "%run pydial plot ../result_logs/env-exploration-partial-CR-seed*1-4.train.log\n",
    "%run pydial plot ../result_logs/env-exploration-partial-sfr-seed*1-4.train.log\n",
    "%run pydial plot ../result_logs/env-exploration-partial-lap-seed*1-4.train.log"
   ]
  },
  {
   "cell_type": "markdown",
   "id": "ee47e9fb",
   "metadata": {
    "pycharm": {
     "name": "#%% md\n"
    }
   },
   "source": [
    "#### Results table and plots for the three environments on freshly trained policies (Disclaimer: models training has to fully complete before fresh results can be plotted) \n",
    "For convenience, environments can be commented out and plotted one at a time "
   ]
  },
  {
   "cell_type": "code",
   "execution_count": null,
   "id": "6a7f77c4",
   "metadata": {
    "pycharm": {
     "name": "#%%\n"
    }
   },
   "outputs": [],
   "source": [
    "%run pydial plot ../logs_directory/env-exploration-partial-CR-seed*1-4.train.log\n",
    "%run pydial plot ../logs_directory/env-exploration-partial-sfr-seed*1-4.train.log\n",
    "%run pydial plot ../logs_directory/env-exploration-partial-lap-seed*1-4.train.log\n",
    "%run pydial plot --noplot ../logs_directory/env-exploration-partial-CR-seed*1-4.train.log\n",
    "%run pydial plot --noplot ../logs_directory/env-exploration-partial-sfr-seed*1-4.train.log\n",
    "%run pydial plot --noplot ../logs_directory/env-exploration-partial-lap-seed*1-4.train.log"
   ]
  },
  {
   "cell_type": "markdown",
   "id": "5fc7b88c",
   "metadata": {
    "pycharm": {
     "name": "#%% md\n"
    }
   },
   "source": [
    "\n",
    "# Handcrafted Policies \n",
    "\n",
    "Handcrafted policies are provided here for convenience and comparison. The training is skipped and the existing results are used for plotting. If necessary, the handcrafted policies can be tested using the following commands: \n",
    "- pydial train ../configuration_files/env1-hdc-CR.cfg --seed=\\(0,9\\)\n",
    "- pydial train ../configuration_files/env1-sfr-CR.cfg --seed=\\(0,9\\)\n",
    "- pydial train ../configuration_files/env1-lap-CR.cfg --seed=\\(0,9\\)\n"
   ]
  },
  {
   "cell_type": "markdown",
   "id": "6f25b599",
   "metadata": {
    "pycharm": {
     "name": "#%% md\n"
    }
   },
   "source": [
    "#### Results and plots - Environment - Cambridge Restaurants with exploration variable - 4000/1000/500 - 9 seeds - Handcrafted"
   ]
  },
  {
   "cell_type": "code",
   "execution_count": null,
   "id": "6e865bab",
   "metadata": {
    "pycharm": {
     "name": "#%%\n"
    }
   },
   "outputs": [],
   "source": [
    "%run pydial plot ../result_logs/env1-hdc-CR-seed*.1-4.train.log\n",
    "%run pydial plot --noplot ../result_logs/env1-hdc-CR-seed*.1-4.train.log\n"
   ]
  },
  {
   "cell_type": "markdown",
   "id": "257d6b7b",
   "metadata": {
    "pycharm": {
     "name": "#%% md\n"
    }
   },
   "source": [
    "#### Results and plots - Environment - San Francisco Restaurants with exploration variable - 4000/1000/500 - 9 seeds - Handcrafted"
   ]
  },
  {
   "cell_type": "code",
   "execution_count": null,
   "id": "454b6981",
   "metadata": {
    "pycharm": {
     "name": "#%%\n"
    }
   },
   "outputs": [],
   "source": [
    "%run pydial plot ../result_logs/env1-hdc-SFR-seed*.1-4.train.log\n",
    "%run pydial plot --noplot ../result_logs/env1-hdc-SFR-seed*.1-4.train.log\n"
   ]
  },
  {
   "cell_type": "markdown",
   "id": "1856c381",
   "metadata": {
    "pycharm": {
     "name": "#%% md\n"
    }
   },
   "source": [
    "#### Results and plots - Environment - Laptops with exploration variable - 4000/1000/500 - 9 seeds - Handcrafted"
   ]
  },
  {
   "cell_type": "code",
   "execution_count": null,
   "id": "91cea509",
   "metadata": {
    "pycharm": {
     "name": "#%%\n"
    }
   },
   "outputs": [],
   "source": [
    "%run pydial plot ../result_logs/env1-hdc-LAP-seed*.1-4.train.log\n",
    "%run pydial plot --noplot ../result_logs/env1-hdc-LAP-seed*.1-4.train.log\n"
   ]
  },
  {
   "cell_type": "markdown",
   "id": "1e58c9bc",
   "metadata": {
    "pycharm": {
     "name": "#%% md\n"
    }
   },
   "source": [
    "# DQN with partial exploration variable (4000 dialogs in total, batches of 100 for training, test on 30 dialogs) \n",
    "\n",
    "To enable the analysis of safety and efficiency on shorter training iterations, we are also presenting the training of DQN with the partial exploration variable on batches of 100 dialogs (with testing on 30). \n"
   ]
  },
  {
   "cell_type": "markdown",
   "id": "0c9be5a4",
   "metadata": {},
   "source": [
    "### [DISCLAIMER] - the training process is long (it will take several hours on a CPU-Based machine). For convenience, the results of the runs are provided in results_logs/ folder. These logs contain all necessary information for plotting the results. "
   ]
  },
  {
   "cell_type": "markdown",
   "id": "e33244ff",
   "metadata": {},
   "source": [
    "#### Environment - Cambridge Restaurants with exploration variable - 4000/1000/500 - 9 seeds - DQN"
   ]
  },
  {
   "cell_type": "code",
   "execution_count": null,
   "id": "697786af",
   "metadata": {
    "scrolled": false
   },
   "outputs": [],
   "source": [
    "%run pydial train ../configuration_files/env-exploration-partial-CR.cfg --seed=\\(0,9\\)         "
   ]
  },
  {
   "cell_type": "markdown",
   "id": "ca3c559b",
   "metadata": {},
   "source": [
    "#### Environment - San Francisco Restaurants with exploration variable - 4000/1000/500 - 9 seeds - DQN"
   ]
  },
  {
   "cell_type": "code",
   "execution_count": null,
   "id": "d4d41711",
   "metadata": {},
   "outputs": [],
   "source": [
    "%run pydial train ../configuration_files/env-exploration-partial-sfr.cfg --seed=\\(0,9\\)         "
   ]
  },
  {
   "cell_type": "markdown",
   "id": "4cdfedc8",
   "metadata": {},
   "source": [
    "#### Environment - Laptops with exploration variable - 4000/1000/500 - 9 seeds - DQN"
   ]
  },
  {
   "cell_type": "code",
   "execution_count": null,
   "id": "542825e4",
   "metadata": {},
   "outputs": [],
   "source": [
    "%run pydial train ../configuration_files/env-exploration-partial-lap.cfg --seed=\\(0,9\\)         "
   ]
  },
  {
   "cell_type": "markdown",
   "id": "90c38dd9",
   "metadata": {},
   "source": [
    "#### Results table for the three environments above on pre-trained logs/policies ( result_logs/) "
   ]
  },
  {
   "cell_type": "code",
   "execution_count": null,
   "id": "fda4849e",
   "metadata": {},
   "outputs": [],
   "source": [
    "%run pydial plot --noplot ../result_logs/env-exploration-partial-CR-seed*1-4.train.log > ../results_logs/table-exploration-partial-CR.tsv\n",
    "%run pydial plot --noplot ../result_logs/env-exploration-partial-sfr-seed*1-4.train.log > ../results_logs/table-exploration-partial-sfr.tsv\n",
    "%run pydial plot --noplot ../result_logs/env-exploration-partial-lap-seed*1-4.train.log > ../results_logs/table-exploration-partial-lap.tsv"
   ]
  },
  {
   "cell_type": "markdown",
   "id": "f4f791df",
   "metadata": {},
   "source": [
    "#### Results plots for the three environments above on pre-trained logs/policies ( result_logs/)"
   ]
  },
  {
   "cell_type": "code",
   "execution_count": null,
   "id": "4dfcd74b",
   "metadata": {},
   "outputs": [],
   "source": [
    "%run pydial plot ../result_logs/env-exploration-partial-CR-seed*1-4.train.log\n",
    "%run pydial plot ../result_logs/env-exploration-partial-sfr-seed*1-4.train.log\n",
    "%run pydial plot ../result_logs/env-exploration-partial-lap-seed*1-4.train.log"
   ]
  },
  {
   "cell_type": "markdown",
   "id": "46d5bb26",
   "metadata": {},
   "source": [
    "#### Results table and plots for the three environments on freshly trained policies (Disclaimer: models training has to fully complete before fresh results can be plotted) \n",
    "For convenience, environments can be commented out and plotted one at a time "
   ]
  },
  {
   "cell_type": "code",
   "execution_count": null,
   "id": "d402a32b",
   "metadata": {},
   "outputs": [],
   "source": [
    "%run pydial plot ../logs_directory/env-exploration-partial-CR-seed*1-4.train.log\n",
    "%run pydial plot ../logs_directory/env-exploration-partial-sfr-seed*1-4.train.log\n",
    "%run pydial plot ../logs_directory/env-exploration-partial-lap-seed*1-4.train.log\n",
    "%run pydial plot --noplot ../logs_directory/env-exploration-partial-CR-seed*1-4.train.log\n",
    "%run pydial plot --noplot ../logs_directory/env-exploration-partial-sfr-seed*1-4.train.log\n",
    "%run pydial plot --noplot ../logs_directory/env-exploration-partial-lap-seed*1-4.train.log"
   ]
  },
  {
   "cell_type": "markdown",
   "id": "a9dc9559",
   "metadata": {},
   "source": [
    "\n",
    "# Handcrafted Policies \n",
    "\n",
    "Handcrafted policies are provided here for convenience and comparison. The training is skipped and the existing results are used for plotting. If necessary, the handcrafted policies can be tested using the following commands: \n",
    "- pydial train ../configuration_files/env1-hdc-CR.cfg --seed=\\(0,9\\)\n",
    "- pydial train ../configuration_files/env1-sfr-CR.cfg --seed=\\(0,9\\)\n",
    "- pydial train ../configuration_files/env1-lap-CR.cfg --seed=\\(0,9\\)\n"
   ]
  },
  {
   "cell_type": "markdown",
   "id": "6d933479",
   "metadata": {},
   "source": [
    "#### Results and plots - Environment - Cambridge Restaurants with exploration variable - 4000/1000/500 - 9 seeds - Handcrafted"
   ]
  },
  {
   "cell_type": "code",
   "execution_count": null,
   "id": "61fbcb58",
   "metadata": {},
   "outputs": [],
   "source": [
    "%run pydial plot ../result_logs/env1-hdc-CR-seed*.1-4.train.log\n",
    "%run pydial plot --noplot ../result_logs/env1-hdc-CR-seed*.1-4.train.log\n"
   ]
  },
  {
   "cell_type": "markdown",
   "id": "44a65edb",
   "metadata": {},
   "source": [
    "#### Results and plots - Environment - San Francisco Restaurants with exploration variable - 4000/1000/500 - 9 seeds - Handcrafted"
   ]
  },
  {
   "cell_type": "code",
   "execution_count": null,
   "id": "b088e78e",
   "metadata": {},
   "outputs": [],
   "source": [
    "%run pydial plot ../result_logs/env1-hdc-SFR-seed*.1-4.train.log\n",
    "%run pydial plot --noplot ../result_logs/env1-hdc-SFR-seed*.1-4.train.log\n"
   ]
  },
  {
   "cell_type": "markdown",
   "id": "02136efd",
   "metadata": {},
   "source": [
    "#### Results and plots - Environment - Laptops with exploration variable - 4000/1000/500 - 9 seeds - Handcrafted"
   ]
  },
  {
   "cell_type": "code",
   "execution_count": null,
   "id": "4c7a547c",
   "metadata": {},
   "outputs": [],
   "source": [
    "%run pydial plot ../result_logs/env1-hdc-LAP-seed*.1-4.train.log\n",
    "%run pydial plot --noplot ../result_logs/env1-hdc-LAP-seed*.1-4.train.log\n"
   ]
  },
  {
   "cell_type": "markdown",
   "id": "a173b885",
   "metadata": {},
   "source": [
    "# DQN with partial exploration variable (4000 dialogs in total, batches of 100 for training, test on 30 dialogs) \n",
    "\n",
    "To enable the analysis of safety and efficiency on shorter training iterations, we are also presenting the training of DQN with the partial exploration variable on batches of 100 dialogs (with testing on 30). \n"
   ]
  },
  {
   "cell_type": "markdown",
   "id": "7ba5769f",
   "metadata": {},
   "source": [
    "#### Environment - Cambridge Restaurants with exploration variable - 4000/100/30  - 2 seeds, 40 iterations - DQN"
   ]
  },
  {
   "cell_type": "code",
   "execution_count": null,
   "id": "e51bf3f2",
   "metadata": {},
   "outputs": [],
   "source": [
    "%run pydial train ../configuration_files/env-exploration-partial-CR-100.cfg --seed=\\(0,2\\)         "
   ]
  },
  {
   "cell_type": "markdown",
   "id": "c00c9e66",
   "metadata": {},
   "source": [
    "#### Environment - San Francisco Restaurants with exploration variable - 4000/100/30  - 2 seeds, 40 iterations - DQN"
   ]
  },
  {
   "cell_type": "code",
   "execution_count": null,
   "id": "bcefbbb8",
   "metadata": {},
   "outputs": [],
   "source": [
    "%run pydial train ../configuration_files/env-exploration-partial-CR-100.cfg --seed=\\(0,2\\)         "
   ]
  },
  {
   "cell_type": "markdown",
   "id": "29100b2a",
   "metadata": {},
   "source": [
    "#### Environment - Laptops with exploration variable - 4000/100/30  - 2 seeds, 40 iterations - DQN"
   ]
  },
  {
   "cell_type": "code",
   "execution_count": null,
   "id": "b2b55fd2",
   "metadata": {},
   "outputs": [],
   "source": [
    "%run pydial train ../configuration_files/env-exploration-partial-CR-100.cfg --seed=\\(0,2\\)         "
   ]
  },
  {
   "cell_type": "code",
   "execution_count": null,
   "id": "57e9aea6",
   "metadata": {},
   "outputs": [],
   "source": [
    "%run pydial plot ../result_logs/env-exploration-partial-lap-100-seed*.train.log\n",
    "%run pydial plot ../result_logs/env-exploration-partial-CR-100-seed*.train.log\n",
    "%run pydial plot ../result_logs/env-exploration-partial-sfr-100-seed*.train.log\n"
   ]
  },
  {
   "cell_type": "markdown",
   "id": "df3f4c23",
   "metadata": {},
   "source": [
    "# Calculate Risk Index "
   ]
  },
  {
   "cell_type": "code",
   "execution_count": null,
   "id": "6e23f86c",
   "metadata": {},
   "outputs": [],
   "source": []
  },
  {
   "cell_type": "code",
   "execution_count": null,
   "id": "11b349ee",
   "metadata": {
    "pycharm": {
     "name": "#%%\n"
    }
   },
   "outputs": [],
   "source": [
    "usecols = [\"NumDialogs\", \"Reward\", \"Success\", \"Turns\"]\n",
    "df_cr = pd.read_csv('../result_logs/table-exploration-partial-CR.csv', sep=';', usecols=usecols)\n",
    "df_sfr = pd.read_csv('../result_logs/table-exploration-partial-sfr.csv', sep=';', usecols=usecols)\n",
    "df_lap = pd.read_csv('../result_logs/table-exploration-partial-lap.csv', sep=';', usecols=usecols)\n",
    "\n",
    "risk_calculator_cr = RiskIndexCalculator(df_cr, threshold=65)\n",
    "risk_calculator_sfr = RiskIndexCalculator(df_sfr, threshold=65)\n",
    "risk_calculator_lap = RiskIndexCalculator(df_lap, threshold=65)\n",
    "\n",
    "print(f\"Risk index in Cambridge Restaurants: {risk_calculator_cr.calculate_risk_index()}\")\n",
    "print(f\"Risk index in San Francisco Restaurants: {risk_calculator_sfr.calculate_risk_index()}\")\n",
    "print(f\"Risk index in Laptops: {risk_calculator_lap.calculate_risk_index()}\")\n"
   ]
  },
  {
   "cell_type": "code",
   "execution_count": null,
   "id": "d85f5e38",
   "metadata": {},
   "outputs": [],
   "source": [
    "\n"
   ]
  }
 ],
 "metadata": {
  "kernelspec": {
   "display_name": "Python 3 (ipykernel)",
   "language": "python",
   "name": "python3"
  },
  "language_info": {
   "codemirror_mode": {
    "name": "ipython",
    "version": 3
   },
   "file_extension": ".py",
   "mimetype": "text/x-python",
   "name": "python",
   "nbconvert_exporter": "python",
   "pygments_lexer": "ipython3",
   "version": "3.8.16"
  }
 },
 "nbformat": 4,
 "nbformat_minor": 5
}
