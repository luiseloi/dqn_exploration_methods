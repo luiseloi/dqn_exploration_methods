{
 "cells": [
  {
   "cell_type": "code",
   "execution_count": null,
   "id": "d21cf0ac",
   "metadata": {},
   "outputs": [],
   "source": [
    "import os\n",
    "os.environ['KMP_DUPLICATE_LIB_OK']='True'\n",
    "# os.environ['CUDA_VISIBLE_DEVICES'] = '-1'\n",
    "\n",
    "import tensorflow as tf\n",
    "print(\"Hello\")\n",
    "# if tf.test.gpu_device_name():\n",
    "#     print('GPU found')\n",
    "# else:\n",
    "#     print(\"No GPU found\")\n",
    "\n"
   ]
  },
  {
   "cell_type": "code",
   "execution_count": null,
   "id": "d1cf269c",
   "metadata": {},
   "outputs": [
    {
     "name": "stdout",
     "output_type": "stream",
     "text": [
      "/Users/crodrigues/Desktop/Submission_Masters/dqn_exploration_methods/pydial3-public\n",
      "*** Seed 0 ***\n",
      "*** logfile: env-exploration-partial-100-seed0-00.1-40.train.log ***\n",
      "\u001b[95mRESULTS\u001b[0m:: 22:17:14: root                                   pydial.py <train_command>853 :  List of domains: CamRestaurants\u001b[1m\u001b[0m\n",
      "*** Training Iteration env-exploration-partial-100-seed0-00.0->env-exploration-partial-100-seed0-00.1: iter=0, error-rate=0, num-dialogs=100 ***\n",
      "\u001b[95mRESULTS\u001b[0m:: 22:17:14: root                                      pydial.py <trainBatch>445 :  *** Training Iteration env-exploration-partial-100-seed0-00.0->env-exploration-partial-100-seed0-00.1: iter=0, error-rate=0, num-dialogs=100 ***\u001b[1m\u001b[0m\n"
     ]
    }
   ],
   "source": [
    "%cd pydial3-public\n",
    "%run pydial train ../configuration_files/env-exploration-partial-100.cfg --seed=\\(0,1\\)         "
   ]
  },
  {
   "cell_type": "code",
   "execution_count": null,
   "id": "697786af",
   "metadata": {},
   "outputs": [],
   "source": []
  }
 ],
 "metadata": {
  "kernelspec": {
   "display_name": "Python 3 (ipykernel)",
   "language": "python",
   "name": "python3"
  },
  "language_info": {
   "codemirror_mode": {
    "name": "ipython",
    "version": 3
   },
   "file_extension": ".py",
   "mimetype": "text/x-python",
   "name": "python",
   "nbconvert_exporter": "python",
   "pygments_lexer": "ipython3",
   "version": "3.7.5"
  }
 },
 "nbformat": 4,
 "nbformat_minor": 5
}
